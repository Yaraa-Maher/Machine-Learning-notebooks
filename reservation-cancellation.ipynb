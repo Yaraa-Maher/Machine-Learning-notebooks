{
 "cells": [
  {
   "cell_type": "markdown",
   "id": "3eb638e2",
   "metadata": {
    "_cell_guid": "b1076dfc-b9ad-4769-8c92-a6c4dae69d19",
    "_uuid": "8f2839f25d086af736a60e9eeb907d3b93b6e0e5",
    "execution": {
     "iopub.execute_input": "2023-08-10T06:29:45.794800Z",
     "iopub.status.busy": "2023-08-10T06:29:45.794337Z",
     "iopub.status.idle": "2023-08-10T06:29:50.548974Z",
     "shell.execute_reply": "2023-08-10T06:29:50.546771Z",
     "shell.execute_reply.started": "2023-08-10T06:29:45.794765Z"
    },
    "papermill": {
     "duration": 0.011733,
     "end_time": "2023-08-10T08:05:25.610008",
     "exception": false,
     "start_time": "2023-08-10T08:05:25.598275",
     "status": "completed"
    },
    "tags": []
   },
   "source": [
    "# Libraries"
   ]
  },
  {
   "cell_type": "code",
   "execution_count": 1,
   "id": "7212ef72",
   "metadata": {
    "execution": {
     "iopub.execute_input": "2023-08-10T08:05:25.630799Z",
     "iopub.status.busy": "2023-08-10T08:05:25.630282Z",
     "iopub.status.idle": "2023-08-10T08:05:30.145148Z",
     "shell.execute_reply": "2023-08-10T08:05:30.143453Z"
    },
    "papermill": {
     "duration": 4.5289,
     "end_time": "2023-08-10T08:05:30.147723",
     "exception": false,
     "start_time": "2023-08-10T08:05:25.618823",
     "status": "completed"
    },
    "tags": []
   },
   "outputs": [
    {
     "name": "stderr",
     "output_type": "stream",
     "text": [
      "/opt/conda/lib/python3.10/site-packages/scipy/__init__.py:146: UserWarning: A NumPy version >=1.16.5 and <1.23.0 is required for this version of SciPy (detected version 1.23.5\n",
      "  warnings.warn(f\"A NumPy version >={np_minversion} and <{np_maxversion}\"\n"
     ]
    }
   ],
   "source": [
    "import numpy as np\n",
    "import pandas as pd\n",
    "import seaborn as sns\n",
    "import warnings \n",
    "warnings.filterwarnings('ignore')\n",
    "\n",
    "\n",
    "from sklearn.linear_model import LogisticRegression\n",
    "from sklearn.model_selection import train_test_split, RandomizedSearchCV,StratifiedKFold\n",
    "import lightgbm as lgb\n",
    "from sklearn.ensemble import RandomForestClassifier\n",
    "from sklearn.metrics import accuracy_score,recall_score\n",
    "import xgboost as xgb\n",
    "from sklearn.preprocessing import StandardScaler,LabelEncoder\n",
    "import plotly \n",
    "import plotly.express as px\n",
    "from sklearn.svm import SVC, LinearSVC\n",
    "from sklearn.neighbors import KNeighborsClassifier\n",
    "from sklearn.naive_bayes import GaussianNB\n",
    "from sklearn.linear_model import Perceptron\n",
    "from sklearn.linear_model import SGDClassifier\n",
    "from sklearn.tree import DecisionTreeClassifier"
   ]
  },
  {
   "cell_type": "markdown",
   "id": "e4263c4a",
   "metadata": {
    "papermill": {
     "duration": 0.007284,
     "end_time": "2023-08-10T08:05:30.162692",
     "exception": false,
     "start_time": "2023-08-10T08:05:30.155408",
     "status": "completed"
    },
    "tags": []
   },
   "source": [
    "# Data"
   ]
  },
  {
   "cell_type": "code",
   "execution_count": 2,
   "id": "49fc06ea",
   "metadata": {
    "execution": {
     "iopub.execute_input": "2023-08-10T08:05:30.179497Z",
     "iopub.status.busy": "2023-08-10T08:05:30.179062Z",
     "iopub.status.idle": "2023-08-10T08:05:30.336526Z",
     "shell.execute_reply": "2023-08-10T08:05:30.334782Z"
    },
    "papermill": {
     "duration": 0.169119,
     "end_time": "2023-08-10T08:05:30.339368",
     "exception": false,
     "start_time": "2023-08-10T08:05:30.170249",
     "status": "completed"
    },
    "tags": []
   },
   "outputs": [],
   "source": [
    "train = pd.read_csv('/kaggle/input/playground-series-s3e7/train.csv')\n",
    "test = pd.read_csv('/kaggle/input/playground-series-s3e7/test.csv')\n",
    "\n",
    "train['is_train'] = 1\n",
    "test['is_train'] = 0\n",
    "\n",
    "combine = [train, test]\n",
    "df = pd.concat(combine, axis=0)"
   ]
  },
  {
   "cell_type": "code",
   "execution_count": 3,
   "id": "a5aab8d8",
   "metadata": {
    "execution": {
     "iopub.execute_input": "2023-08-10T08:05:30.356619Z",
     "iopub.status.busy": "2023-08-10T08:05:30.355943Z",
     "iopub.status.idle": "2023-08-10T08:05:30.361952Z",
     "shell.execute_reply": "2023-08-10T08:05:30.360491Z"
    },
    "papermill": {
     "duration": 0.017217,
     "end_time": "2023-08-10T08:05:30.364244",
     "exception": false,
     "start_time": "2023-08-10T08:05:30.347027",
     "status": "completed"
    },
    "tags": []
   },
   "outputs": [
    {
     "name": "stdout",
     "output_type": "stream",
     "text": [
      "(42100, 20)\n",
      "(28068, 19)\n"
     ]
    }
   ],
   "source": [
    "print(train.shape)\n",
    "print(test.shape)"
   ]
  },
  {
   "cell_type": "code",
   "execution_count": 4,
   "id": "4cb3aba2",
   "metadata": {
    "execution": {
     "iopub.execute_input": "2023-08-10T08:05:30.381212Z",
     "iopub.status.busy": "2023-08-10T08:05:30.380739Z",
     "iopub.status.idle": "2023-08-10T08:05:30.394405Z",
     "shell.execute_reply": "2023-08-10T08:05:30.392700Z"
    },
    "papermill": {
     "duration": 0.02545,
     "end_time": "2023-08-10T08:05:30.397397",
     "exception": false,
     "start_time": "2023-08-10T08:05:30.371947",
     "status": "completed"
    },
    "tags": []
   },
   "outputs": [
    {
     "data": {
      "text/plain": [
       "id                                          0\n",
       "no_of_adults                                0\n",
       "no_of_children                              0\n",
       "no_of_weekend_nights                        0\n",
       "no_of_week_nights                           0\n",
       "type_of_meal_plan                           0\n",
       "required_car_parking_space                  0\n",
       "room_type_reserved                          0\n",
       "lead_time                                   0\n",
       "arrival_year                                0\n",
       "arrival_month                               0\n",
       "arrival_date                                0\n",
       "market_segment_type                         0\n",
       "repeated_guest                              0\n",
       "no_of_previous_cancellations                0\n",
       "no_of_previous_bookings_not_canceled        0\n",
       "avg_price_per_room                          0\n",
       "no_of_special_requests                      0\n",
       "booking_status                          28068\n",
       "is_train                                    0\n",
       "dtype: int64"
      ]
     },
     "execution_count": 4,
     "metadata": {},
     "output_type": "execute_result"
    }
   ],
   "source": [
    "df.isna().sum()"
   ]
  },
  {
   "cell_type": "code",
   "execution_count": 5,
   "id": "5077ada8",
   "metadata": {
    "execution": {
     "iopub.execute_input": "2023-08-10T08:05:30.414198Z",
     "iopub.status.busy": "2023-08-10T08:05:30.413861Z",
     "iopub.status.idle": "2023-08-10T08:05:30.440190Z",
     "shell.execute_reply": "2023-08-10T08:05:30.438823Z"
    },
    "papermill": {
     "duration": 0.037883,
     "end_time": "2023-08-10T08:05:30.442883",
     "exception": false,
     "start_time": "2023-08-10T08:05:30.405000",
     "status": "completed"
    },
    "tags": []
   },
   "outputs": [
    {
     "data": {
      "text/html": [
       "<div>\n",
       "<style scoped>\n",
       "    .dataframe tbody tr th:only-of-type {\n",
       "        vertical-align: middle;\n",
       "    }\n",
       "\n",
       "    .dataframe tbody tr th {\n",
       "        vertical-align: top;\n",
       "    }\n",
       "\n",
       "    .dataframe thead th {\n",
       "        text-align: right;\n",
       "    }\n",
       "</style>\n",
       "<table border=\"1\" class=\"dataframe\">\n",
       "  <thead>\n",
       "    <tr style=\"text-align: right;\">\n",
       "      <th></th>\n",
       "      <th>id</th>\n",
       "      <th>no_of_adults</th>\n",
       "      <th>no_of_children</th>\n",
       "      <th>no_of_weekend_nights</th>\n",
       "      <th>no_of_week_nights</th>\n",
       "      <th>type_of_meal_plan</th>\n",
       "      <th>required_car_parking_space</th>\n",
       "      <th>room_type_reserved</th>\n",
       "      <th>lead_time</th>\n",
       "      <th>arrival_year</th>\n",
       "      <th>arrival_month</th>\n",
       "      <th>arrival_date</th>\n",
       "      <th>market_segment_type</th>\n",
       "      <th>repeated_guest</th>\n",
       "      <th>no_of_previous_cancellations</th>\n",
       "      <th>no_of_previous_bookings_not_canceled</th>\n",
       "      <th>avg_price_per_room</th>\n",
       "      <th>no_of_special_requests</th>\n",
       "      <th>booking_status</th>\n",
       "      <th>is_train</th>\n",
       "    </tr>\n",
       "  </thead>\n",
       "  <tbody>\n",
       "    <tr>\n",
       "      <th>0</th>\n",
       "      <td>0</td>\n",
       "      <td>2</td>\n",
       "      <td>0</td>\n",
       "      <td>0</td>\n",
       "      <td>2</td>\n",
       "      <td>1</td>\n",
       "      <td>0</td>\n",
       "      <td>0</td>\n",
       "      <td>9</td>\n",
       "      <td>2018</td>\n",
       "      <td>1</td>\n",
       "      <td>14</td>\n",
       "      <td>1</td>\n",
       "      <td>1</td>\n",
       "      <td>11</td>\n",
       "      <td>0</td>\n",
       "      <td>67.50</td>\n",
       "      <td>0</td>\n",
       "      <td>0.0</td>\n",
       "      <td>1</td>\n",
       "    </tr>\n",
       "    <tr>\n",
       "      <th>1</th>\n",
       "      <td>1</td>\n",
       "      <td>2</td>\n",
       "      <td>0</td>\n",
       "      <td>1</td>\n",
       "      <td>2</td>\n",
       "      <td>0</td>\n",
       "      <td>0</td>\n",
       "      <td>0</td>\n",
       "      <td>117</td>\n",
       "      <td>2018</td>\n",
       "      <td>7</td>\n",
       "      <td>29</td>\n",
       "      <td>0</td>\n",
       "      <td>0</td>\n",
       "      <td>0</td>\n",
       "      <td>0</td>\n",
       "      <td>72.25</td>\n",
       "      <td>0</td>\n",
       "      <td>0.0</td>\n",
       "      <td>1</td>\n",
       "    </tr>\n",
       "    <tr>\n",
       "      <th>2</th>\n",
       "      <td>2</td>\n",
       "      <td>2</td>\n",
       "      <td>0</td>\n",
       "      <td>0</td>\n",
       "      <td>1</td>\n",
       "      <td>0</td>\n",
       "      <td>0</td>\n",
       "      <td>0</td>\n",
       "      <td>315</td>\n",
       "      <td>2018</td>\n",
       "      <td>12</td>\n",
       "      <td>2</td>\n",
       "      <td>0</td>\n",
       "      <td>0</td>\n",
       "      <td>0</td>\n",
       "      <td>0</td>\n",
       "      <td>52.00</td>\n",
       "      <td>0</td>\n",
       "      <td>0.0</td>\n",
       "      <td>1</td>\n",
       "    </tr>\n",
       "    <tr>\n",
       "      <th>3</th>\n",
       "      <td>3</td>\n",
       "      <td>1</td>\n",
       "      <td>0</td>\n",
       "      <td>0</td>\n",
       "      <td>2</td>\n",
       "      <td>1</td>\n",
       "      <td>0</td>\n",
       "      <td>0</td>\n",
       "      <td>32</td>\n",
       "      <td>2018</td>\n",
       "      <td>12</td>\n",
       "      <td>1</td>\n",
       "      <td>1</td>\n",
       "      <td>0</td>\n",
       "      <td>0</td>\n",
       "      <td>0</td>\n",
       "      <td>56.00</td>\n",
       "      <td>0</td>\n",
       "      <td>0.0</td>\n",
       "      <td>1</td>\n",
       "    </tr>\n",
       "    <tr>\n",
       "      <th>4</th>\n",
       "      <td>4</td>\n",
       "      <td>2</td>\n",
       "      <td>0</td>\n",
       "      <td>1</td>\n",
       "      <td>0</td>\n",
       "      <td>0</td>\n",
       "      <td>0</td>\n",
       "      <td>0</td>\n",
       "      <td>258</td>\n",
       "      <td>2018</td>\n",
       "      <td>10</td>\n",
       "      <td>16</td>\n",
       "      <td>0</td>\n",
       "      <td>0</td>\n",
       "      <td>0</td>\n",
       "      <td>0</td>\n",
       "      <td>100.00</td>\n",
       "      <td>0</td>\n",
       "      <td>1.0</td>\n",
       "      <td>1</td>\n",
       "    </tr>\n",
       "    <tr>\n",
       "      <th>5</th>\n",
       "      <td>5</td>\n",
       "      <td>0</td>\n",
       "      <td>2</td>\n",
       "      <td>2</td>\n",
       "      <td>5</td>\n",
       "      <td>0</td>\n",
       "      <td>0</td>\n",
       "      <td>2</td>\n",
       "      <td>215</td>\n",
       "      <td>2018</td>\n",
       "      <td>10</td>\n",
       "      <td>6</td>\n",
       "      <td>1</td>\n",
       "      <td>0</td>\n",
       "      <td>0</td>\n",
       "      <td>0</td>\n",
       "      <td>212.06</td>\n",
       "      <td>0</td>\n",
       "      <td>1.0</td>\n",
       "      <td>1</td>\n",
       "    </tr>\n",
       "    <tr>\n",
       "      <th>6</th>\n",
       "      <td>6</td>\n",
       "      <td>2</td>\n",
       "      <td>0</td>\n",
       "      <td>0</td>\n",
       "      <td>1</td>\n",
       "      <td>2</td>\n",
       "      <td>0</td>\n",
       "      <td>0</td>\n",
       "      <td>320</td>\n",
       "      <td>2018</td>\n",
       "      <td>8</td>\n",
       "      <td>18</td>\n",
       "      <td>0</td>\n",
       "      <td>0</td>\n",
       "      <td>0</td>\n",
       "      <td>0</td>\n",
       "      <td>115.00</td>\n",
       "      <td>1</td>\n",
       "      <td>1.0</td>\n",
       "      <td>1</td>\n",
       "    </tr>\n",
       "    <tr>\n",
       "      <th>7</th>\n",
       "      <td>7</td>\n",
       "      <td>2</td>\n",
       "      <td>0</td>\n",
       "      <td>0</td>\n",
       "      <td>2</td>\n",
       "      <td>2</td>\n",
       "      <td>0</td>\n",
       "      <td>0</td>\n",
       "      <td>265</td>\n",
       "      <td>2018</td>\n",
       "      <td>6</td>\n",
       "      <td>24</td>\n",
       "      <td>0</td>\n",
       "      <td>0</td>\n",
       "      <td>0</td>\n",
       "      <td>0</td>\n",
       "      <td>87.00</td>\n",
       "      <td>0</td>\n",
       "      <td>0.0</td>\n",
       "      <td>1</td>\n",
       "    </tr>\n",
       "    <tr>\n",
       "      <th>8</th>\n",
       "      <td>8</td>\n",
       "      <td>2</td>\n",
       "      <td>0</td>\n",
       "      <td>2</td>\n",
       "      <td>3</td>\n",
       "      <td>0</td>\n",
       "      <td>0</td>\n",
       "      <td>0</td>\n",
       "      <td>189</td>\n",
       "      <td>2018</td>\n",
       "      <td>10</td>\n",
       "      <td>8</td>\n",
       "      <td>0</td>\n",
       "      <td>0</td>\n",
       "      <td>0</td>\n",
       "      <td>0</td>\n",
       "      <td>72.75</td>\n",
       "      <td>0</td>\n",
       "      <td>0.0</td>\n",
       "      <td>1</td>\n",
       "    </tr>\n",
       "    <tr>\n",
       "      <th>9</th>\n",
       "      <td>9</td>\n",
       "      <td>3</td>\n",
       "      <td>0</td>\n",
       "      <td>0</td>\n",
       "      <td>3</td>\n",
       "      <td>0</td>\n",
       "      <td>0</td>\n",
       "      <td>0</td>\n",
       "      <td>137</td>\n",
       "      <td>2018</td>\n",
       "      <td>12</td>\n",
       "      <td>22</td>\n",
       "      <td>1</td>\n",
       "      <td>0</td>\n",
       "      <td>0</td>\n",
       "      <td>0</td>\n",
       "      <td>117.30</td>\n",
       "      <td>2</td>\n",
       "      <td>0.0</td>\n",
       "      <td>1</td>\n",
       "    </tr>\n",
       "  </tbody>\n",
       "</table>\n",
       "</div>"
      ],
      "text/plain": [
       "   id  no_of_adults  no_of_children  no_of_weekend_nights  no_of_week_nights  \\\n",
       "0   0             2               0                     0                  2   \n",
       "1   1             2               0                     1                  2   \n",
       "2   2             2               0                     0                  1   \n",
       "3   3             1               0                     0                  2   \n",
       "4   4             2               0                     1                  0   \n",
       "5   5             0               2                     2                  5   \n",
       "6   6             2               0                     0                  1   \n",
       "7   7             2               0                     0                  2   \n",
       "8   8             2               0                     2                  3   \n",
       "9   9             3               0                     0                  3   \n",
       "\n",
       "   type_of_meal_plan  required_car_parking_space  room_type_reserved  \\\n",
       "0                  1                           0                   0   \n",
       "1                  0                           0                   0   \n",
       "2                  0                           0                   0   \n",
       "3                  1                           0                   0   \n",
       "4                  0                           0                   0   \n",
       "5                  0                           0                   2   \n",
       "6                  2                           0                   0   \n",
       "7                  2                           0                   0   \n",
       "8                  0                           0                   0   \n",
       "9                  0                           0                   0   \n",
       "\n",
       "   lead_time  arrival_year  arrival_month  arrival_date  market_segment_type  \\\n",
       "0          9          2018              1            14                    1   \n",
       "1        117          2018              7            29                    0   \n",
       "2        315          2018             12             2                    0   \n",
       "3         32          2018             12             1                    1   \n",
       "4        258          2018             10            16                    0   \n",
       "5        215          2018             10             6                    1   \n",
       "6        320          2018              8            18                    0   \n",
       "7        265          2018              6            24                    0   \n",
       "8        189          2018             10             8                    0   \n",
       "9        137          2018             12            22                    1   \n",
       "\n",
       "   repeated_guest  no_of_previous_cancellations  \\\n",
       "0               1                            11   \n",
       "1               0                             0   \n",
       "2               0                             0   \n",
       "3               0                             0   \n",
       "4               0                             0   \n",
       "5               0                             0   \n",
       "6               0                             0   \n",
       "7               0                             0   \n",
       "8               0                             0   \n",
       "9               0                             0   \n",
       "\n",
       "   no_of_previous_bookings_not_canceled  avg_price_per_room  \\\n",
       "0                                     0               67.50   \n",
       "1                                     0               72.25   \n",
       "2                                     0               52.00   \n",
       "3                                     0               56.00   \n",
       "4                                     0              100.00   \n",
       "5                                     0              212.06   \n",
       "6                                     0              115.00   \n",
       "7                                     0               87.00   \n",
       "8                                     0               72.75   \n",
       "9                                     0              117.30   \n",
       "\n",
       "   no_of_special_requests  booking_status  is_train  \n",
       "0                       0             0.0         1  \n",
       "1                       0             0.0         1  \n",
       "2                       0             0.0         1  \n",
       "3                       0             0.0         1  \n",
       "4                       0             1.0         1  \n",
       "5                       0             1.0         1  \n",
       "6                       1             1.0         1  \n",
       "7                       0             0.0         1  \n",
       "8                       0             0.0         1  \n",
       "9                       2             0.0         1  "
      ]
     },
     "execution_count": 5,
     "metadata": {},
     "output_type": "execute_result"
    }
   ],
   "source": [
    "df.head(10)"
   ]
  },
  {
   "cell_type": "code",
   "execution_count": 6,
   "id": "c74e2b41",
   "metadata": {
    "execution": {
     "iopub.execute_input": "2023-08-10T08:05:30.461453Z",
     "iopub.status.busy": "2023-08-10T08:05:30.461017Z",
     "iopub.status.idle": "2023-08-10T08:05:30.472687Z",
     "shell.execute_reply": "2023-08-10T08:05:30.471534Z"
    },
    "papermill": {
     "duration": 0.023651,
     "end_time": "2023-08-10T08:05:30.474451",
     "exception": false,
     "start_time": "2023-08-10T08:05:30.450800",
     "status": "completed"
    },
    "tags": []
   },
   "outputs": [
    {
     "name": "stdout",
     "output_type": "stream",
     "text": [
      "arrival_year:  [2018 2017] \n",
      "\n",
      "no_of_previous_cancellations:  [11  0  1  4  2  3  8 13  6  5] \n",
      "\n",
      "no_of_previous_bookings_not_canceledr:  [ 0  2  3 23 47  7  8 14  4  6 13  1 12  5 33 16 18 10 11 27 17 21 30 43\n",
      " 44 24 35 20  9 37 41 46 32 25 36 22 26 19 48 28 58 15 31 45 51 50 34 40] \n",
      "\n"
     ]
    }
   ],
   "source": [
    "print('arrival_year: ', df['arrival_year'].unique(), '\\n')\n",
    "print('no_of_previous_cancellations: ', df['no_of_previous_cancellations'].unique(), '\\n')\n",
    "print('no_of_previous_bookings_not_canceledr: ', df['no_of_previous_bookings_not_canceled'].unique(), '\\n')"
   ]
  },
  {
   "cell_type": "code",
   "execution_count": 7,
   "id": "a7671692",
   "metadata": {
    "execution": {
     "iopub.execute_input": "2023-08-10T08:05:30.492104Z",
     "iopub.status.busy": "2023-08-10T08:05:30.491436Z",
     "iopub.status.idle": "2023-08-10T08:05:30.589443Z",
     "shell.execute_reply": "2023-08-10T08:05:30.587779Z"
    },
    "papermill": {
     "duration": 0.11037,
     "end_time": "2023-08-10T08:05:30.592478",
     "exception": false,
     "start_time": "2023-08-10T08:05:30.482108",
     "status": "completed"
    },
    "tags": []
   },
   "outputs": [
    {
     "data": {
      "text/html": [
       "<div>\n",
       "<style scoped>\n",
       "    .dataframe tbody tr th:only-of-type {\n",
       "        vertical-align: middle;\n",
       "    }\n",
       "\n",
       "    .dataframe tbody tr th {\n",
       "        vertical-align: top;\n",
       "    }\n",
       "\n",
       "    .dataframe thead th {\n",
       "        text-align: right;\n",
       "    }\n",
       "</style>\n",
       "<table border=\"1\" class=\"dataframe\">\n",
       "  <thead>\n",
       "    <tr style=\"text-align: right;\">\n",
       "      <th></th>\n",
       "      <th>id</th>\n",
       "      <th>no_of_adults</th>\n",
       "      <th>no_of_children</th>\n",
       "      <th>no_of_weekend_nights</th>\n",
       "      <th>no_of_week_nights</th>\n",
       "      <th>type_of_meal_plan</th>\n",
       "      <th>required_car_parking_space</th>\n",
       "      <th>room_type_reserved</th>\n",
       "      <th>lead_time</th>\n",
       "      <th>arrival_year</th>\n",
       "      <th>arrival_month</th>\n",
       "      <th>arrival_date</th>\n",
       "      <th>market_segment_type</th>\n",
       "      <th>repeated_guest</th>\n",
       "      <th>no_of_previous_cancellations</th>\n",
       "      <th>no_of_previous_bookings_not_canceled</th>\n",
       "      <th>avg_price_per_room</th>\n",
       "      <th>no_of_special_requests</th>\n",
       "      <th>booking_status</th>\n",
       "      <th>is_train</th>\n",
       "    </tr>\n",
       "  </thead>\n",
       "  <tbody>\n",
       "    <tr>\n",
       "      <th>count</th>\n",
       "      <td>70168.000000</td>\n",
       "      <td>70168.000000</td>\n",
       "      <td>70168.000000</td>\n",
       "      <td>70168.000000</td>\n",
       "      <td>70168.000000</td>\n",
       "      <td>70168.000000</td>\n",
       "      <td>70168.000000</td>\n",
       "      <td>70168.000000</td>\n",
       "      <td>70168.000000</td>\n",
       "      <td>70168.000000</td>\n",
       "      <td>70168.000000</td>\n",
       "      <td>70168.000000</td>\n",
       "      <td>70168.000000</td>\n",
       "      <td>70168.000000</td>\n",
       "      <td>70168.000000</td>\n",
       "      <td>70168.000000</td>\n",
       "      <td>70168.000000</td>\n",
       "      <td>70168.000000</td>\n",
       "      <td>42100.000000</td>\n",
       "      <td>70168.000000</td>\n",
       "    </tr>\n",
       "    <tr>\n",
       "      <th>mean</th>\n",
       "      <td>35083.500000</td>\n",
       "      <td>1.918553</td>\n",
       "      <td>0.141004</td>\n",
       "      <td>0.886287</td>\n",
       "      <td>2.393826</td>\n",
       "      <td>0.237159</td>\n",
       "      <td>0.025952</td>\n",
       "      <td>0.429626</td>\n",
       "      <td>103.871038</td>\n",
       "      <td>2017.856459</td>\n",
       "      <td>7.589685</td>\n",
       "      <td>15.888824</td>\n",
       "      <td>0.727483</td>\n",
       "      <td>0.029800</td>\n",
       "      <td>0.021819</td>\n",
       "      <td>0.184158</td>\n",
       "      <td>104.597611</td>\n",
       "      <td>0.572497</td>\n",
       "      <td>0.392019</td>\n",
       "      <td>0.599989</td>\n",
       "    </tr>\n",
       "    <tr>\n",
       "      <th>std</th>\n",
       "      <td>20255.901181</td>\n",
       "      <td>0.525485</td>\n",
       "      <td>0.448987</td>\n",
       "      <td>0.882720</td>\n",
       "      <td>1.417731</td>\n",
       "      <td>0.585116</td>\n",
       "      <td>0.158993</td>\n",
       "      <td>0.831633</td>\n",
       "      <td>81.094971</td>\n",
       "      <td>0.350626</td>\n",
       "      <td>2.830386</td>\n",
       "      <td>8.906960</td>\n",
       "      <td>0.631735</td>\n",
       "      <td>0.170036</td>\n",
       "      <td>0.362130</td>\n",
       "      <td>1.818767</td>\n",
       "      <td>37.011164</td>\n",
       "      <td>0.772930</td>\n",
       "      <td>0.488207</td>\n",
       "      <td>0.489904</td>\n",
       "    </tr>\n",
       "    <tr>\n",
       "      <th>min</th>\n",
       "      <td>0.000000</td>\n",
       "      <td>0.000000</td>\n",
       "      <td>0.000000</td>\n",
       "      <td>0.000000</td>\n",
       "      <td>0.000000</td>\n",
       "      <td>0.000000</td>\n",
       "      <td>0.000000</td>\n",
       "      <td>0.000000</td>\n",
       "      <td>0.000000</td>\n",
       "      <td>2017.000000</td>\n",
       "      <td>1.000000</td>\n",
       "      <td>1.000000</td>\n",
       "      <td>0.000000</td>\n",
       "      <td>0.000000</td>\n",
       "      <td>0.000000</td>\n",
       "      <td>0.000000</td>\n",
       "      <td>0.000000</td>\n",
       "      <td>0.000000</td>\n",
       "      <td>0.000000</td>\n",
       "      <td>0.000000</td>\n",
       "    </tr>\n",
       "    <tr>\n",
       "      <th>25%</th>\n",
       "      <td>17541.750000</td>\n",
       "      <td>2.000000</td>\n",
       "      <td>0.000000</td>\n",
       "      <td>0.000000</td>\n",
       "      <td>1.000000</td>\n",
       "      <td>0.000000</td>\n",
       "      <td>0.000000</td>\n",
       "      <td>0.000000</td>\n",
       "      <td>37.000000</td>\n",
       "      <td>2018.000000</td>\n",
       "      <td>5.000000</td>\n",
       "      <td>8.000000</td>\n",
       "      <td>0.000000</td>\n",
       "      <td>0.000000</td>\n",
       "      <td>0.000000</td>\n",
       "      <td>0.000000</td>\n",
       "      <td>80.000000</td>\n",
       "      <td>0.000000</td>\n",
       "      <td>0.000000</td>\n",
       "      <td>0.000000</td>\n",
       "    </tr>\n",
       "    <tr>\n",
       "      <th>50%</th>\n",
       "      <td>35083.500000</td>\n",
       "      <td>2.000000</td>\n",
       "      <td>0.000000</td>\n",
       "      <td>1.000000</td>\n",
       "      <td>2.000000</td>\n",
       "      <td>0.000000</td>\n",
       "      <td>0.000000</td>\n",
       "      <td>0.000000</td>\n",
       "      <td>93.000000</td>\n",
       "      <td>2018.000000</td>\n",
       "      <td>8.000000</td>\n",
       "      <td>16.000000</td>\n",
       "      <td>1.000000</td>\n",
       "      <td>0.000000</td>\n",
       "      <td>0.000000</td>\n",
       "      <td>0.000000</td>\n",
       "      <td>99.450000</td>\n",
       "      <td>0.000000</td>\n",
       "      <td>0.000000</td>\n",
       "      <td>1.000000</td>\n",
       "    </tr>\n",
       "    <tr>\n",
       "      <th>75%</th>\n",
       "      <td>52625.250000</td>\n",
       "      <td>2.000000</td>\n",
       "      <td>0.000000</td>\n",
       "      <td>2.000000</td>\n",
       "      <td>3.000000</td>\n",
       "      <td>0.000000</td>\n",
       "      <td>0.000000</td>\n",
       "      <td>1.000000</td>\n",
       "      <td>155.000000</td>\n",
       "      <td>2018.000000</td>\n",
       "      <td>10.000000</td>\n",
       "      <td>24.000000</td>\n",
       "      <td>1.000000</td>\n",
       "      <td>0.000000</td>\n",
       "      <td>0.000000</td>\n",
       "      <td>0.000000</td>\n",
       "      <td>123.300000</td>\n",
       "      <td>1.000000</td>\n",
       "      <td>1.000000</td>\n",
       "      <td>1.000000</td>\n",
       "    </tr>\n",
       "    <tr>\n",
       "      <th>max</th>\n",
       "      <td>70167.000000</td>\n",
       "      <td>4.000000</td>\n",
       "      <td>9.000000</td>\n",
       "      <td>7.000000</td>\n",
       "      <td>17.000000</td>\n",
       "      <td>3.000000</td>\n",
       "      <td>1.000000</td>\n",
       "      <td>6.000000</td>\n",
       "      <td>443.000000</td>\n",
       "      <td>2018.000000</td>\n",
       "      <td>12.000000</td>\n",
       "      <td>31.000000</td>\n",
       "      <td>4.000000</td>\n",
       "      <td>1.000000</td>\n",
       "      <td>13.000000</td>\n",
       "      <td>58.000000</td>\n",
       "      <td>540.000000</td>\n",
       "      <td>5.000000</td>\n",
       "      <td>1.000000</td>\n",
       "      <td>1.000000</td>\n",
       "    </tr>\n",
       "  </tbody>\n",
       "</table>\n",
       "</div>"
      ],
      "text/plain": [
       "                 id  no_of_adults  no_of_children  no_of_weekend_nights  \\\n",
       "count  70168.000000  70168.000000    70168.000000          70168.000000   \n",
       "mean   35083.500000      1.918553        0.141004              0.886287   \n",
       "std    20255.901181      0.525485        0.448987              0.882720   \n",
       "min        0.000000      0.000000        0.000000              0.000000   \n",
       "25%    17541.750000      2.000000        0.000000              0.000000   \n",
       "50%    35083.500000      2.000000        0.000000              1.000000   \n",
       "75%    52625.250000      2.000000        0.000000              2.000000   \n",
       "max    70167.000000      4.000000        9.000000              7.000000   \n",
       "\n",
       "       no_of_week_nights  type_of_meal_plan  required_car_parking_space  \\\n",
       "count       70168.000000       70168.000000                70168.000000   \n",
       "mean            2.393826           0.237159                    0.025952   \n",
       "std             1.417731           0.585116                    0.158993   \n",
       "min             0.000000           0.000000                    0.000000   \n",
       "25%             1.000000           0.000000                    0.000000   \n",
       "50%             2.000000           0.000000                    0.000000   \n",
       "75%             3.000000           0.000000                    0.000000   \n",
       "max            17.000000           3.000000                    1.000000   \n",
       "\n",
       "       room_type_reserved     lead_time  arrival_year  arrival_month  \\\n",
       "count        70168.000000  70168.000000  70168.000000   70168.000000   \n",
       "mean             0.429626    103.871038   2017.856459       7.589685   \n",
       "std              0.831633     81.094971      0.350626       2.830386   \n",
       "min              0.000000      0.000000   2017.000000       1.000000   \n",
       "25%              0.000000     37.000000   2018.000000       5.000000   \n",
       "50%              0.000000     93.000000   2018.000000       8.000000   \n",
       "75%              1.000000    155.000000   2018.000000      10.000000   \n",
       "max              6.000000    443.000000   2018.000000      12.000000   \n",
       "\n",
       "       arrival_date  market_segment_type  repeated_guest  \\\n",
       "count  70168.000000         70168.000000    70168.000000   \n",
       "mean      15.888824             0.727483        0.029800   \n",
       "std        8.906960             0.631735        0.170036   \n",
       "min        1.000000             0.000000        0.000000   \n",
       "25%        8.000000             0.000000        0.000000   \n",
       "50%       16.000000             1.000000        0.000000   \n",
       "75%       24.000000             1.000000        0.000000   \n",
       "max       31.000000             4.000000        1.000000   \n",
       "\n",
       "       no_of_previous_cancellations  no_of_previous_bookings_not_canceled  \\\n",
       "count                  70168.000000                          70168.000000   \n",
       "mean                       0.021819                              0.184158   \n",
       "std                        0.362130                              1.818767   \n",
       "min                        0.000000                              0.000000   \n",
       "25%                        0.000000                              0.000000   \n",
       "50%                        0.000000                              0.000000   \n",
       "75%                        0.000000                              0.000000   \n",
       "max                       13.000000                             58.000000   \n",
       "\n",
       "       avg_price_per_room  no_of_special_requests  booking_status  \\\n",
       "count        70168.000000            70168.000000    42100.000000   \n",
       "mean           104.597611                0.572497        0.392019   \n",
       "std             37.011164                0.772930        0.488207   \n",
       "min              0.000000                0.000000        0.000000   \n",
       "25%             80.000000                0.000000        0.000000   \n",
       "50%             99.450000                0.000000        0.000000   \n",
       "75%            123.300000                1.000000        1.000000   \n",
       "max            540.000000                5.000000        1.000000   \n",
       "\n",
       "           is_train  \n",
       "count  70168.000000  \n",
       "mean       0.599989  \n",
       "std        0.489904  \n",
       "min        0.000000  \n",
       "25%        0.000000  \n",
       "50%        1.000000  \n",
       "75%        1.000000  \n",
       "max        1.000000  "
      ]
     },
     "execution_count": 7,
     "metadata": {},
     "output_type": "execute_result"
    }
   ],
   "source": [
    "df.describe()"
   ]
  },
  {
   "cell_type": "code",
   "execution_count": 8,
   "id": "f181ea08",
   "metadata": {
    "execution": {
     "iopub.execute_input": "2023-08-10T08:05:30.610995Z",
     "iopub.status.busy": "2023-08-10T08:05:30.610577Z",
     "iopub.status.idle": "2023-08-10T08:05:30.657291Z",
     "shell.execute_reply": "2023-08-10T08:05:30.655932Z"
    },
    "papermill": {
     "duration": 0.058391,
     "end_time": "2023-08-10T08:05:30.659251",
     "exception": false,
     "start_time": "2023-08-10T08:05:30.600860",
     "status": "completed"
    },
    "tags": []
   },
   "outputs": [
    {
     "data": {
      "text/plain": [
       "id                                      0.007264\n",
       "no_of_adults                            0.079760\n",
       "no_of_children                          0.004260\n",
       "no_of_weekend_nights                    0.044279\n",
       "no_of_week_nights                       0.058506\n",
       "type_of_meal_plan                       0.045980\n",
       "required_car_parking_space             -0.093262\n",
       "room_type_reserved                     -0.023087\n",
       "lead_time                               0.374865\n",
       "arrival_year                            0.178326\n",
       "arrival_month                           0.007639\n",
       "arrival_date                            0.003124\n",
       "market_segment_type                     0.112648\n",
       "repeated_guest                         -0.136065\n",
       "no_of_previous_cancellations           -0.045599\n",
       "no_of_previous_bookings_not_canceled   -0.080166\n",
       "avg_price_per_room                      0.157484\n",
       "no_of_special_requests                 -0.220278\n",
       "booking_status                          1.000000\n",
       "is_train                                     NaN\n",
       "Name: booking_status, dtype: float64"
      ]
     },
     "execution_count": 8,
     "metadata": {},
     "output_type": "execute_result"
    }
   ],
   "source": [
    "corr= train.corr(method='pearson')['booking_status'][:]\n",
    "corr"
   ]
  },
  {
   "cell_type": "code",
   "execution_count": 9,
   "id": "4e4c145a",
   "metadata": {
    "execution": {
     "iopub.execute_input": "2023-08-10T08:05:30.679522Z",
     "iopub.status.busy": "2023-08-10T08:05:30.679129Z",
     "iopub.status.idle": "2023-08-10T08:05:31.268314Z",
     "shell.execute_reply": "2023-08-10T08:05:31.265800Z"
    },
    "papermill": {
     "duration": 0.602312,
     "end_time": "2023-08-10T08:05:31.271365",
     "exception": false,
     "start_time": "2023-08-10T08:05:30.669053",
     "status": "completed"
    },
    "tags": []
   },
   "outputs": [
    {
     "data": {
      "text/plain": [
       "<Axes: xlabel='arrival_date', ylabel='count'>"
      ]
     },
     "execution_count": 9,
     "metadata": {},
     "output_type": "execute_result"
    },
    {
     "data": {
      "image/png": "[encoded data removed]",
      "text/plain": [
       "<Figure size 640x480 with 1 Axes>"
      ]
     },
     "metadata": {},
     "output_type": "display_data"
    }
   ],
   "source": [
    "sns.countplot(data=df, x='arrival_date', hue='booking_status')"
   ]
  },
  {
   "cell_type": "code",
   "execution_count": 10,
   "id": "b201ac82",
   "metadata": {
    "execution": {
     "iopub.execute_input": "2023-08-10T08:05:31.291656Z",
     "iopub.status.busy": "2023-08-10T08:05:31.291225Z",
     "iopub.status.idle": "2023-08-10T08:05:31.617023Z",
     "shell.execute_reply": "2023-08-10T08:05:31.615762Z"
    },
    "papermill": {
     "duration": 0.338868,
     "end_time": "2023-08-10T08:05:31.619673",
     "exception": false,
     "start_time": "2023-08-10T08:05:31.280805",
     "status": "completed"
    },
    "tags": []
   },
   "outputs": [
    {
     "data": {
      "text/plain": [
       "<Axes: xlabel='arrival_month', ylabel='count'>"
      ]
     },
     "execution_count": 10,
     "metadata": {},
     "output_type": "execute_result"
    },
    {
     "data": {
      "image/png": "[encoded data removed]",
      "text/plain": [
       "<Figure size 640x480 with 1 Axes>"
      ]
     },
     "metadata": {},
     "output_type": "display_data"
    }
   ],
   "source": [
    "sns.countplot(data=df, x='arrival_month', hue='booking_status')"
   ]
  },
  {
   "cell_type": "code",
   "execution_count": 11,
   "id": "6caa47f2",
   "metadata": {
    "execution": {
     "iopub.execute_input": "2023-08-10T08:05:31.640891Z",
     "iopub.status.busy": "2023-08-10T08:05:31.640489Z",
     "iopub.status.idle": "2023-08-10T08:05:31.865233Z",
     "shell.execute_reply": "2023-08-10T08:05:31.864020Z"
    },
    "papermill": {
     "duration": 0.238434,
     "end_time": "2023-08-10T08:05:31.867941",
     "exception": false,
     "start_time": "2023-08-10T08:05:31.629507",
     "status": "completed"
    },
    "tags": []
   },
   "outputs": [
    {
     "data": {
      "text/plain": [
       "<Axes: xlabel='arrival_year', ylabel='count'>"
      ]
     },
     "execution_count": 11,
     "metadata": {},
     "output_type": "execute_result"
    },
    {
     "data": {
      "image/png": "[encoded data removed]",
      "text/plain": [
       "<Figure size 640x480 with 1 Axes>"
      ]
     },
     "metadata": {},
     "output_type": "display_data"
    }
   ],
   "source": [
    "sns.countplot(data=df, x='arrival_year', hue='booking_status')"
   ]
  },
  {
   "cell_type": "code",
   "execution_count": 12,
   "id": "66f7e349",
   "metadata": {
    "execution": {
     "iopub.execute_input": "2023-08-10T08:05:31.889534Z",
     "iopub.status.busy": "2023-08-10T08:05:31.889109Z",
     "iopub.status.idle": "2023-08-10T08:05:32.149141Z",
     "shell.execute_reply": "2023-08-10T08:05:32.147840Z"
    },
    "papermill": {
     "duration": 0.273084,
     "end_time": "2023-08-10T08:05:32.151367",
     "exception": false,
     "start_time": "2023-08-10T08:05:31.878283",
     "status": "completed"
    },
    "tags": []
   },
   "outputs": [
    {
     "data": {
      "text/plain": [
       "<Axes: xlabel='no_of_special_requests', ylabel='count'>"
      ]
     },
     "execution_count": 12,
     "metadata": {},
     "output_type": "execute_result"
    },
    {
     "data": {
      "image/png": "[encoded data removed]",
      "text/plain": [
       "<Figure size 640x480 with 1 Axes>"
      ]
     },
     "metadata": {},
     "output_type": "display_data"
    }
   ],
   "source": [
    "sns.countplot(data=df, x='no_of_special_requests', hue='booking_status')"
   ]
  },
  {
   "cell_type": "code",
   "execution_count": 13,
   "id": "86a1ab34",
   "metadata": {
    "execution": {
     "iopub.execute_input": "2023-08-10T08:05:32.174363Z",
     "iopub.status.busy": "2023-08-10T08:05:32.173928Z",
     "iopub.status.idle": "2023-08-10T08:05:32.569570Z",
     "shell.execute_reply": "2023-08-10T08:05:32.568570Z"
    },
    "papermill": {
     "duration": 0.409956,
     "end_time": "2023-08-10T08:05:32.571694",
     "exception": false,
     "start_time": "2023-08-10T08:05:32.161738",
     "status": "completed"
    },
    "tags": []
   },
   "outputs": [
    {
     "data": {
      "text/plain": [
       "<seaborn.axisgrid.FacetGrid at 0x7fed43aa3700>"
      ]
     },
     "execution_count": 13,
     "metadata": {},
     "output_type": "execute_result"
    },
    {
     "data": {
      "image/png": "[encoded data removed]",
      "text/plain": [
       "<Figure size 616.236x500 with 1 Axes>"
      ]
     },
     "metadata": {},
     "output_type": "display_data"
    }
   ],
   "source": [
    "chart = sns.catplot(data=df, x='market_segment_type', kind='count', hue='booking_status')\n",
    "chart.set_xticklabels(rotation=65, horizontalalignment='right')"
   ]
  },
  {
   "cell_type": "code",
   "execution_count": 14,
   "id": "08e307db",
   "metadata": {
    "execution": {
     "iopub.execute_input": "2023-08-10T08:05:32.595556Z",
     "iopub.status.busy": "2023-08-10T08:05:32.594673Z",
     "iopub.status.idle": "2023-08-10T08:05:32.606227Z",
     "shell.execute_reply": "2023-08-10T08:05:32.604250Z"
    },
    "papermill": {
     "duration": 0.026765,
     "end_time": "2023-08-10T08:05:32.609209",
     "exception": false,
     "start_time": "2023-08-10T08:05:32.582444",
     "status": "completed"
    },
    "tags": []
   },
   "outputs": [],
   "source": [
    "df['arrival_year']=df.arrival_year.map({2017:int(0), 2018:int(1)})"
   ]
  },
  {
   "cell_type": "markdown",
   "id": "e253d751",
   "metadata": {
    "papermill": {
     "duration": 0.01005,
     "end_time": "2023-08-10T08:05:32.629766",
     "exception": false,
     "start_time": "2023-08-10T08:05:32.619716",
     "status": "completed"
    },
    "tags": []
   },
   "source": [
    "# Feature Engineering"
   ]
  },
  {
   "cell_type": "code",
   "execution_count": 15,
   "id": "babb05e4",
   "metadata": {
    "execution": {
     "iopub.execute_input": "2023-08-10T08:05:32.652585Z",
     "iopub.status.busy": "2023-08-10T08:05:32.652035Z",
     "iopub.status.idle": "2023-08-10T08:05:32.657446Z",
     "shell.execute_reply": "2023-08-10T08:05:32.655876Z"
    },
    "papermill": {
     "duration": 0.019691,
     "end_time": "2023-08-10T08:05:32.659988",
     "exception": false,
     "start_time": "2023-08-10T08:05:32.640297",
     "status": "completed"
    },
    "tags": []
   },
   "outputs": [],
   "source": [
    "def SumFunc(df, col, name):\n",
    "    df[name] = df[col].sum(axis=1) \n",
    "    return df"
   ]
  },
  {
   "cell_type": "code",
   "execution_count": 16,
   "id": "01bb62eb",
   "metadata": {
    "execution": {
     "iopub.execute_input": "2023-08-10T08:05:32.684662Z",
     "iopub.status.busy": "2023-08-10T08:05:32.683998Z",
     "iopub.status.idle": "2023-08-10T08:05:32.695814Z",
     "shell.execute_reply": "2023-08-10T08:05:32.694424Z"
    },
    "papermill": {
     "duration": 0.02806,
     "end_time": "2023-08-10T08:05:32.698743",
     "exception": false,
     "start_time": "2023-08-10T08:05:32.670683",
     "status": "completed"
    },
    "tags": []
   },
   "outputs": [],
   "source": [
    "cols_name = ['no_of_adults','no_of_children']\n",
    "name = 'family'\n",
    "\n",
    "df = SumFunc(df, cols_name, name)"
   ]
  },
  {
   "cell_type": "code",
   "execution_count": 17,
   "id": "d2a2ee59",
   "metadata": {
    "execution": {
     "iopub.execute_input": "2023-08-10T08:05:32.721912Z",
     "iopub.status.busy": "2023-08-10T08:05:32.721461Z",
     "iopub.status.idle": "2023-08-10T08:05:32.732933Z",
     "shell.execute_reply": "2023-08-10T08:05:32.731528Z"
    },
    "papermill": {
     "duration": 0.026237,
     "end_time": "2023-08-10T08:05:32.735537",
     "exception": false,
     "start_time": "2023-08-10T08:05:32.709300",
     "status": "completed"
    },
    "tags": []
   },
   "outputs": [],
   "source": [
    "cols_name = ['no_of_weekend_nights','no_of_week_nights']\n",
    "name = 'no_of_nights'\n",
    "\n",
    "df = SumFunc(df, cols_name, name)"
   ]
  },
  {
   "cell_type": "code",
   "execution_count": 18,
   "id": "eadc3d26",
   "metadata": {
    "execution": {
     "iopub.execute_input": "2023-08-10T08:05:32.760394Z",
     "iopub.status.busy": "2023-08-10T08:05:32.759822Z",
     "iopub.status.idle": "2023-08-10T08:05:32.795616Z",
     "shell.execute_reply": "2023-08-10T08:05:32.794542Z"
    },
    "papermill": {
     "duration": 0.051538,
     "end_time": "2023-08-10T08:05:32.798283",
     "exception": false,
     "start_time": "2023-08-10T08:05:32.746745",
     "status": "completed"
    },
    "tags": []
   },
   "outputs": [
    {
     "data": {
      "text/html": [
       "<div>\n",
       "<style scoped>\n",
       "    .dataframe tbody tr th:only-of-type {\n",
       "        vertical-align: middle;\n",
       "    }\n",
       "\n",
       "    .dataframe tbody tr th {\n",
       "        vertical-align: top;\n",
       "    }\n",
       "\n",
       "    .dataframe thead th {\n",
       "        text-align: right;\n",
       "    }\n",
       "</style>\n",
       "<table border=\"1\" class=\"dataframe\">\n",
       "  <thead>\n",
       "    <tr style=\"text-align: right;\">\n",
       "      <th></th>\n",
       "      <th>market_segment_Band</th>\n",
       "      <th>booking_status</th>\n",
       "    </tr>\n",
       "  </thead>\n",
       "  <tbody>\n",
       "    <tr>\n",
       "      <th>0</th>\n",
       "      <td>(-0.004, 2.0]</td>\n",
       "      <td>0.396368</td>\n",
       "    </tr>\n",
       "    <tr>\n",
       "      <th>1</th>\n",
       "      <td>(2.0, 4.0]</td>\n",
       "      <td>0.047619</td>\n",
       "    </tr>\n",
       "  </tbody>\n",
       "</table>\n",
       "</div>"
      ],
      "text/plain": [
       "  market_segment_Band  booking_status\n",
       "0       (-0.004, 2.0]        0.396368\n",
       "1          (2.0, 4.0]        0.047619"
      ]
     },
     "execution_count": 18,
     "metadata": {},
     "output_type": "execute_result"
    }
   ],
   "source": [
    "df['market_segment_Band'] = pd.cut(df['market_segment_type'], 2)\n",
    "df[['market_segment_Band', 'booking_status']].groupby(['market_segment_Band'], as_index=False).mean().sort_values(by='booking_status', ascending=False)"
   ]
  },
  {
   "cell_type": "code",
   "execution_count": 19,
   "id": "ae035f7f",
   "metadata": {
    "execution": {
     "iopub.execute_input": "2023-08-10T08:05:32.821574Z",
     "iopub.status.busy": "2023-08-10T08:05:32.821146Z",
     "iopub.status.idle": "2023-08-10T08:05:32.831316Z",
     "shell.execute_reply": "2023-08-10T08:05:32.829577Z"
    },
    "papermill": {
     "duration": 0.024667,
     "end_time": "2023-08-10T08:05:32.833762",
     "exception": false,
     "start_time": "2023-08-10T08:05:32.809095",
     "status": "completed"
    },
    "tags": []
   },
   "outputs": [],
   "source": [
    "df['market_segment_Band'] = pd.cut(df['market_segment_type'], 2, labels=[0, 1])"
   ]
  },
  {
   "cell_type": "code",
   "execution_count": 20,
   "id": "9cc4e0eb",
   "metadata": {
    "execution": {
     "iopub.execute_input": "2023-08-10T08:05:32.856585Z",
     "iopub.status.busy": "2023-08-10T08:05:32.856177Z",
     "iopub.status.idle": "2023-08-10T08:05:32.877251Z",
     "shell.execute_reply": "2023-08-10T08:05:32.875630Z"
    },
    "papermill": {
     "duration": 0.034716,
     "end_time": "2023-08-10T08:05:32.879258",
     "exception": false,
     "start_time": "2023-08-10T08:05:32.844542",
     "status": "completed"
    },
    "tags": []
   },
   "outputs": [
    {
     "data": {
      "text/html": [
       "<div>\n",
       "<style scoped>\n",
       "    .dataframe tbody tr th:only-of-type {\n",
       "        vertical-align: middle;\n",
       "    }\n",
       "\n",
       "    .dataframe tbody tr th {\n",
       "        vertical-align: top;\n",
       "    }\n",
       "\n",
       "    .dataframe thead th {\n",
       "        text-align: right;\n",
       "    }\n",
       "</style>\n",
       "<table border=\"1\" class=\"dataframe\">\n",
       "  <thead>\n",
       "    <tr style=\"text-align: right;\">\n",
       "      <th></th>\n",
       "      <th>price_per_room_Band</th>\n",
       "      <th>booking_status</th>\n",
       "    </tr>\n",
       "  </thead>\n",
       "  <tbody>\n",
       "    <tr>\n",
       "      <th>6</th>\n",
       "      <td>(462.857, 540.0]</td>\n",
       "      <td>0.800000</td>\n",
       "    </tr>\n",
       "    <tr>\n",
       "      <th>3</th>\n",
       "      <td>(231.429, 308.571]</td>\n",
       "      <td>0.460606</td>\n",
       "    </tr>\n",
       "    <tr>\n",
       "      <th>1</th>\n",
       "      <td>(77.143, 154.286]</td>\n",
       "      <td>0.456734</td>\n",
       "    </tr>\n",
       "    <tr>\n",
       "      <th>2</th>\n",
       "      <td>(154.286, 231.429]</td>\n",
       "      <td>0.376181</td>\n",
       "    </tr>\n",
       "    <tr>\n",
       "      <th>4</th>\n",
       "      <td>(308.571, 385.714]</td>\n",
       "      <td>0.333333</td>\n",
       "    </tr>\n",
       "    <tr>\n",
       "      <th>0</th>\n",
       "      <td>(-0.54, 77.143]</td>\n",
       "      <td>0.200591</td>\n",
       "    </tr>\n",
       "    <tr>\n",
       "      <th>5</th>\n",
       "      <td>(385.714, 462.857]</td>\n",
       "      <td>NaN</td>\n",
       "    </tr>\n",
       "  </tbody>\n",
       "</table>\n",
       "</div>"
      ],
      "text/plain": [
       "  price_per_room_Band  booking_status\n",
       "6    (462.857, 540.0]        0.800000\n",
       "3  (231.429, 308.571]        0.460606\n",
       "1   (77.143, 154.286]        0.456734\n",
       "2  (154.286, 231.429]        0.376181\n",
       "4  (308.571, 385.714]        0.333333\n",
       "0     (-0.54, 77.143]        0.200591\n",
       "5  (385.714, 462.857]             NaN"
      ]
     },
     "execution_count": 20,
     "metadata": {},
     "output_type": "execute_result"
    }
   ],
   "source": [
    "df['price_per_room_Band'] = pd.cut(df['avg_price_per_room'], 7)\n",
    "df[['price_per_room_Band', 'booking_status']].groupby(['price_per_room_Band'], as_index=False).mean().sort_values(by='booking_status', ascending=False)"
   ]
  },
  {
   "cell_type": "code",
   "execution_count": 21,
   "id": "ec3f5c58",
   "metadata": {
    "execution": {
     "iopub.execute_input": "2023-08-10T08:05:32.901938Z",
     "iopub.status.busy": "2023-08-10T08:05:32.901518Z",
     "iopub.status.idle": "2023-08-10T08:05:32.911513Z",
     "shell.execute_reply": "2023-08-10T08:05:32.909976Z"
    },
    "papermill": {
     "duration": 0.02414,
     "end_time": "2023-08-10T08:05:32.914112",
     "exception": false,
     "start_time": "2023-08-10T08:05:32.889972",
     "status": "completed"
    },
    "tags": []
   },
   "outputs": [],
   "source": [
    "df['price_per_room_Band'] = pd.cut(df['avg_price_per_room'], 7, labels=[0,1,2,3,4,5,6])"
   ]
  },
  {
   "cell_type": "code",
   "execution_count": 22,
   "id": "2460284f",
   "metadata": {
    "execution": {
     "iopub.execute_input": "2023-08-10T08:05:32.938702Z",
     "iopub.status.busy": "2023-08-10T08:05:32.938238Z",
     "iopub.status.idle": "2023-08-10T08:05:32.966801Z",
     "shell.execute_reply": "2023-08-10T08:05:32.965660Z"
    },
    "papermill": {
     "duration": 0.044119,
     "end_time": "2023-08-10T08:05:32.969282",
     "exception": false,
     "start_time": "2023-08-10T08:05:32.925163",
     "status": "completed"
    },
    "tags": []
   },
   "outputs": [],
   "source": [
    "def scale_features(df):\n",
    "    for col in df.columns:\n",
    "        if not pd.api.types.is_numeric_dtype(df[col]):\n",
    "            continue\n",
    "        df[col] = df[col] / np.max(df[col])\n",
    "    return df\n",
    "\n",
    "df = scale_features(df)"
   ]
  },
  {
   "cell_type": "code",
   "execution_count": 23,
   "id": "e2503fd3",
   "metadata": {
    "execution": {
     "iopub.execute_input": "2023-08-10T08:05:32.992661Z",
     "iopub.status.busy": "2023-08-10T08:05:32.992249Z",
     "iopub.status.idle": "2023-08-10T08:05:33.018134Z",
     "shell.execute_reply": "2023-08-10T08:05:33.017181Z"
    },
    "papermill": {
     "duration": 0.04005,
     "end_time": "2023-08-10T08:05:33.020163",
     "exception": false,
     "start_time": "2023-08-10T08:05:32.980113",
     "status": "completed"
    },
    "tags": []
   },
   "outputs": [
    {
     "data": {
      "text/html": [
       "<div>\n",
       "<style scoped>\n",
       "    .dataframe tbody tr th:only-of-type {\n",
       "        vertical-align: middle;\n",
       "    }\n",
       "\n",
       "    .dataframe tbody tr th {\n",
       "        vertical-align: top;\n",
       "    }\n",
       "\n",
       "    .dataframe thead th {\n",
       "        text-align: right;\n",
       "    }\n",
       "</style>\n",
       "<table border=\"1\" class=\"dataframe\">\n",
       "  <thead>\n",
       "    <tr style=\"text-align: right;\">\n",
       "      <th></th>\n",
       "      <th>id</th>\n",
       "      <th>no_of_adults</th>\n",
       "      <th>no_of_children</th>\n",
       "      <th>no_of_weekend_nights</th>\n",
       "      <th>no_of_week_nights</th>\n",
       "      <th>type_of_meal_plan</th>\n",
       "      <th>required_car_parking_space</th>\n",
       "      <th>room_type_reserved</th>\n",
       "      <th>lead_time</th>\n",
       "      <th>arrival_year</th>\n",
       "      <th>...</th>\n",
       "      <th>no_of_previous_cancellations</th>\n",
       "      <th>no_of_previous_bookings_not_canceled</th>\n",
       "      <th>avg_price_per_room</th>\n",
       "      <th>no_of_special_requests</th>\n",
       "      <th>booking_status</th>\n",
       "      <th>is_train</th>\n",
       "      <th>family</th>\n",
       "      <th>no_of_nights</th>\n",
       "      <th>market_segment_Band</th>\n",
       "      <th>price_per_room_Band</th>\n",
       "    </tr>\n",
       "  </thead>\n",
       "  <tbody>\n",
       "    <tr>\n",
       "      <th>0</th>\n",
       "      <td>0.000000</td>\n",
       "      <td>0.50</td>\n",
       "      <td>0.0</td>\n",
       "      <td>0.000000</td>\n",
       "      <td>0.117647</td>\n",
       "      <td>0.333333</td>\n",
       "      <td>0.0</td>\n",
       "      <td>0.0</td>\n",
       "      <td>0.020316</td>\n",
       "      <td>1.0</td>\n",
       "      <td>...</td>\n",
       "      <td>0.846154</td>\n",
       "      <td>0.0</td>\n",
       "      <td>0.125000</td>\n",
       "      <td>0.0</td>\n",
       "      <td>0.0</td>\n",
       "      <td>1.0</td>\n",
       "      <td>0.181818</td>\n",
       "      <td>0.086957</td>\n",
       "      <td>0</td>\n",
       "      <td>0</td>\n",
       "    </tr>\n",
       "    <tr>\n",
       "      <th>1</th>\n",
       "      <td>0.000014</td>\n",
       "      <td>0.50</td>\n",
       "      <td>0.0</td>\n",
       "      <td>0.142857</td>\n",
       "      <td>0.117647</td>\n",
       "      <td>0.000000</td>\n",
       "      <td>0.0</td>\n",
       "      <td>0.0</td>\n",
       "      <td>0.264108</td>\n",
       "      <td>1.0</td>\n",
       "      <td>...</td>\n",
       "      <td>0.000000</td>\n",
       "      <td>0.0</td>\n",
       "      <td>0.133796</td>\n",
       "      <td>0.0</td>\n",
       "      <td>0.0</td>\n",
       "      <td>1.0</td>\n",
       "      <td>0.181818</td>\n",
       "      <td>0.130435</td>\n",
       "      <td>0</td>\n",
       "      <td>0</td>\n",
       "    </tr>\n",
       "    <tr>\n",
       "      <th>2</th>\n",
       "      <td>0.000029</td>\n",
       "      <td>0.50</td>\n",
       "      <td>0.0</td>\n",
       "      <td>0.000000</td>\n",
       "      <td>0.058824</td>\n",
       "      <td>0.000000</td>\n",
       "      <td>0.0</td>\n",
       "      <td>0.0</td>\n",
       "      <td>0.711061</td>\n",
       "      <td>1.0</td>\n",
       "      <td>...</td>\n",
       "      <td>0.000000</td>\n",
       "      <td>0.0</td>\n",
       "      <td>0.096296</td>\n",
       "      <td>0.0</td>\n",
       "      <td>0.0</td>\n",
       "      <td>1.0</td>\n",
       "      <td>0.181818</td>\n",
       "      <td>0.043478</td>\n",
       "      <td>0</td>\n",
       "      <td>0</td>\n",
       "    </tr>\n",
       "    <tr>\n",
       "      <th>3</th>\n",
       "      <td>0.000043</td>\n",
       "      <td>0.25</td>\n",
       "      <td>0.0</td>\n",
       "      <td>0.000000</td>\n",
       "      <td>0.117647</td>\n",
       "      <td>0.333333</td>\n",
       "      <td>0.0</td>\n",
       "      <td>0.0</td>\n",
       "      <td>0.072235</td>\n",
       "      <td>1.0</td>\n",
       "      <td>...</td>\n",
       "      <td>0.000000</td>\n",
       "      <td>0.0</td>\n",
       "      <td>0.103704</td>\n",
       "      <td>0.0</td>\n",
       "      <td>0.0</td>\n",
       "      <td>1.0</td>\n",
       "      <td>0.090909</td>\n",
       "      <td>0.086957</td>\n",
       "      <td>0</td>\n",
       "      <td>0</td>\n",
       "    </tr>\n",
       "    <tr>\n",
       "      <th>4</th>\n",
       "      <td>0.000057</td>\n",
       "      <td>0.50</td>\n",
       "      <td>0.0</td>\n",
       "      <td>0.142857</td>\n",
       "      <td>0.000000</td>\n",
       "      <td>0.000000</td>\n",
       "      <td>0.0</td>\n",
       "      <td>0.0</td>\n",
       "      <td>0.582393</td>\n",
       "      <td>1.0</td>\n",
       "      <td>...</td>\n",
       "      <td>0.000000</td>\n",
       "      <td>0.0</td>\n",
       "      <td>0.185185</td>\n",
       "      <td>0.0</td>\n",
       "      <td>1.0</td>\n",
       "      <td>1.0</td>\n",
       "      <td>0.181818</td>\n",
       "      <td>0.043478</td>\n",
       "      <td>0</td>\n",
       "      <td>1</td>\n",
       "    </tr>\n",
       "  </tbody>\n",
       "</table>\n",
       "<p>5 rows × 24 columns</p>\n",
       "</div>"
      ],
      "text/plain": [
       "         id  no_of_adults  no_of_children  no_of_weekend_nights  \\\n",
       "0  0.000000          0.50             0.0              0.000000   \n",
       "1  0.000014          0.50             0.0              0.142857   \n",
       "2  0.000029          0.50             0.0              0.000000   \n",
       "3  0.000043          0.25             0.0              0.000000   \n",
       "4  0.000057          0.50             0.0              0.142857   \n",
       "\n",
       "   no_of_week_nights  type_of_meal_plan  required_car_parking_space  \\\n",
       "0           0.117647           0.333333                         0.0   \n",
       "1           0.117647           0.000000                         0.0   \n",
       "2           0.058824           0.000000                         0.0   \n",
       "3           0.117647           0.333333                         0.0   \n",
       "4           0.000000           0.000000                         0.0   \n",
       "\n",
       "   room_type_reserved  lead_time  arrival_year  ...  \\\n",
       "0                 0.0   0.020316           1.0  ...   \n",
       "1                 0.0   0.264108           1.0  ...   \n",
       "2                 0.0   0.711061           1.0  ...   \n",
       "3                 0.0   0.072235           1.0  ...   \n",
       "4                 0.0   0.582393           1.0  ...   \n",
       "\n",
       "   no_of_previous_cancellations  no_of_previous_bookings_not_canceled  \\\n",
       "0                      0.846154                                   0.0   \n",
       "1                      0.000000                                   0.0   \n",
       "2                      0.000000                                   0.0   \n",
       "3                      0.000000                                   0.0   \n",
       "4                      0.000000                                   0.0   \n",
       "\n",
       "   avg_price_per_room  no_of_special_requests  booking_status  is_train  \\\n",
       "0            0.125000                     0.0             0.0       1.0   \n",
       "1            0.133796                     0.0             0.0       1.0   \n",
       "2            0.096296                     0.0             0.0       1.0   \n",
       "3            0.103704                     0.0             0.0       1.0   \n",
       "4            0.185185                     0.0             1.0       1.0   \n",
       "\n",
       "     family  no_of_nights  market_segment_Band  price_per_room_Band  \n",
       "0  0.181818      0.086957                    0                    0  \n",
       "1  0.181818      0.130435                    0                    0  \n",
       "2  0.181818      0.043478                    0                    0  \n",
       "3  0.090909      0.086957                    0                    0  \n",
       "4  0.181818      0.043478                    0                    1  \n",
       "\n",
       "[5 rows x 24 columns]"
      ]
     },
     "execution_count": 23,
     "metadata": {},
     "output_type": "execute_result"
    }
   ],
   "source": [
    "df.head()"
   ]
  },
  {
   "cell_type": "code",
   "execution_count": 24,
   "id": "4bdabccc",
   "metadata": {
    "execution": {
     "iopub.execute_input": "2023-08-10T08:05:33.043989Z",
     "iopub.status.busy": "2023-08-10T08:05:33.043606Z",
     "iopub.status.idle": "2023-08-10T08:05:33.053714Z",
     "shell.execute_reply": "2023-08-10T08:05:33.052186Z"
    },
    "papermill": {
     "duration": 0.024169,
     "end_time": "2023-08-10T08:05:33.055561",
     "exception": false,
     "start_time": "2023-08-10T08:05:33.031392",
     "status": "completed"
    },
    "tags": []
   },
   "outputs": [],
   "source": [
    "df = df.drop(['id'], axis=1)"
   ]
  },
  {
   "cell_type": "code",
   "execution_count": 25,
   "id": "9826300d",
   "metadata": {
    "execution": {
     "iopub.execute_input": "2023-08-10T08:05:33.079074Z",
     "iopub.status.busy": "2023-08-10T08:05:33.078655Z",
     "iopub.status.idle": "2023-08-10T08:05:33.096021Z",
     "shell.execute_reply": "2023-08-10T08:05:33.094749Z"
    },
    "papermill": {
     "duration": 0.031899,
     "end_time": "2023-08-10T08:05:33.098432",
     "exception": false,
     "start_time": "2023-08-10T08:05:33.066533",
     "status": "completed"
    },
    "tags": []
   },
   "outputs": [],
   "source": [
    "train = df[df['is_train'] == 1]\n",
    "test = df[df['is_train'] == 0]"
   ]
  },
  {
   "cell_type": "markdown",
   "id": "597cb02e",
   "metadata": {
    "papermill": {
     "duration": 0.010776,
     "end_time": "2023-08-10T08:05:33.120501",
     "exception": false,
     "start_time": "2023-08-10T08:05:33.109725",
     "status": "completed"
    },
    "tags": []
   },
   "source": [
    "# Model Training"
   ]
  },
  {
   "cell_type": "code",
   "execution_count": 26,
   "id": "5063b007",
   "metadata": {
    "execution": {
     "iopub.execute_input": "2023-08-10T08:05:33.145193Z",
     "iopub.status.busy": "2023-08-10T08:05:33.144582Z",
     "iopub.status.idle": "2023-08-10T08:05:33.163664Z",
     "shell.execute_reply": "2023-08-10T08:05:33.162599Z"
    },
    "papermill": {
     "duration": 0.034263,
     "end_time": "2023-08-10T08:05:33.166023",
     "exception": false,
     "start_time": "2023-08-10T08:05:33.131760",
     "status": "completed"
    },
    "tags": []
   },
   "outputs": [],
   "source": [
    "from sklearn.model_selection import train_test_split\n",
    "\n",
    "X_train = train.drop('booking_status', axis=1)\n",
    "y_train = train['booking_status']\n",
    "train_X, test_X, train_y, test_y = train_test_split(X_train, y_train, test_size=0.33, random_state=44, shuffle =True)"
   ]
  },
  {
   "cell_type": "code",
   "execution_count": 27,
   "id": "8dfd48e3",
   "metadata": {
    "execution": {
     "iopub.execute_input": "2023-08-10T08:05:33.190178Z",
     "iopub.status.busy": "2023-08-10T08:05:33.189590Z",
     "iopub.status.idle": "2023-08-10T08:05:34.852173Z",
     "shell.execute_reply": "2023-08-10T08:05:34.849982Z"
    },
    "papermill": {
     "duration": 1.678519,
     "end_time": "2023-08-10T08:05:34.855597",
     "exception": false,
     "start_time": "2023-08-10T08:05:33.177078",
     "status": "completed"
    },
    "tags": []
   },
   "outputs": [
    {
     "name": "stdout",
     "output_type": "stream",
     "text": [
      "LogisticRegression Train Score is :  0.7691707732123232\n",
      "LogisticRegression Test Score is :  0.7760023033182178\n"
     ]
    }
   ],
   "source": [
    "LR = LogisticRegression(penalty='l2',solver='saga',C=0.5,random_state=1, tol = 0.001, max_iter=5000)\n",
    "LR.fit(X_train, y_train)\n",
    "\n",
    "print('LogisticRegression Train Score is : ' , LR.score(train_X, train_y))\n",
    "print('LogisticRegression Test Score is : ', LR.score(test_X, test_y))"
   ]
  },
  {
   "cell_type": "code",
   "execution_count": 28,
   "id": "8f19d9c6",
   "metadata": {
    "execution": {
     "iopub.execute_input": "2023-08-10T08:05:34.887302Z",
     "iopub.status.busy": "2023-08-10T08:05:34.886860Z",
     "iopub.status.idle": "2023-08-10T08:05:35.677078Z",
     "shell.execute_reply": "2023-08-10T08:05:35.676374Z"
    },
    "papermill": {
     "duration": 0.808094,
     "end_time": "2023-08-10T08:05:35.679296",
     "exception": false,
     "start_time": "2023-08-10T08:05:34.871202",
     "status": "completed"
    },
    "tags": []
   },
   "outputs": [
    {
     "name": "stdout",
     "output_type": "stream",
     "text": [
      "SGDClassifier Train Score is :  0.7671854504201084\n",
      "SGDClassifier Test Score is :  0.7733390916288778\n"
     ]
    }
   ],
   "source": [
    "c = SGDClassifier(loss='log', penalty='l2', max_iter=1000, tol=1e-7, random_state=33)\n",
    "c.fit(X_train, y_train)\n",
    "\n",
    "print('SGDClassifier Train Score is : ', c.score(train_X, train_y))\n",
    "print('SGDClassifier Test Score is : ', c.score(test_X, test_y))"
   ]
  },
  {
   "cell_type": "code",
   "execution_count": 29,
   "id": "ddae714a",
   "metadata": {
    "execution": {
     "iopub.execute_input": "2023-08-10T08:05:35.729711Z",
     "iopub.status.busy": "2023-08-10T08:05:35.729313Z",
     "iopub.status.idle": "2023-08-10T08:05:40.879126Z",
     "shell.execute_reply": "2023-08-10T08:05:40.877402Z"
    },
    "papermill": {
     "duration": 5.170362,
     "end_time": "2023-08-10T08:05:40.882026",
     "exception": false,
     "start_time": "2023-08-10T08:05:35.711664",
     "status": "completed"
    },
    "tags": []
   },
   "outputs": [
    {
     "name": "stdout",
     "output_type": "stream",
     "text": [
      "KNeighborsClassifier Train Score is :  0.9867763321161414\n",
      "KNeighborsClassifier Test Score is :  0.9863960267760743\n"
     ]
    }
   ],
   "source": [
    "knn = KNeighborsClassifier(n_neighbors = 1)\n",
    "knn.fit(X_train, y_train)\n",
    "\n",
    "print('KNeighborsClassifier Train Score is : ', knn.score(train_X, train_y))\n",
    "print('KNeighborsClassifier Test Score is : ', knn.score(test_X, test_y))"
   ]
  },
  {
   "cell_type": "code",
   "execution_count": 30,
   "id": "f7bb61fb",
   "metadata": {
    "execution": {
     "iopub.execute_input": "2023-08-10T08:05:40.908938Z",
     "iopub.status.busy": "2023-08-10T08:05:40.908554Z",
     "iopub.status.idle": "2023-08-10T08:05:41.260938Z",
     "shell.execute_reply": "2023-08-10T08:05:41.259400Z"
    },
    "papermill": {
     "duration": 0.36955,
     "end_time": "2023-08-10T08:05:41.263905",
     "exception": false,
     "start_time": "2023-08-10T08:05:40.894355",
     "status": "completed"
    },
    "tags": []
   },
   "outputs": [
    {
     "name": "stdout",
     "output_type": "stream",
     "text": [
      "DecisionTreeClassifier Train Score is :  0.9868117843088595\n",
      "DecisionTreeClassifier Test Score is :  0.9863240480817678\n"
     ]
    }
   ],
   "source": [
    "decision_tree = DecisionTreeClassifier()\n",
    "decision_tree.fit(X_train, y_train)\n",
    "\n",
    "print('DecisionTreeClassifier Train Score is : ', decision_tree.score(train_X, train_y))\n",
    "print('DecisionTreeClassifier Test Score is : ', decision_tree.score(test_X, test_y))"
   ]
  },
  {
   "cell_type": "code",
   "execution_count": 31,
   "id": "e8417e67",
   "metadata": {
    "execution": {
     "iopub.execute_input": "2023-08-10T08:05:41.289737Z",
     "iopub.status.busy": "2023-08-10T08:05:41.289354Z",
     "iopub.status.idle": "2023-08-10T08:08:11.588283Z",
     "shell.execute_reply": "2023-08-10T08:08:11.586496Z"
    },
    "papermill": {
     "duration": 150.314929,
     "end_time": "2023-08-10T08:08:11.591128",
     "exception": false,
     "start_time": "2023-08-10T08:05:41.276199",
     "status": "completed"
    },
    "tags": []
   },
   "outputs": [
    {
     "name": "stdout",
     "output_type": "stream",
     "text": [
      "RandomForestClassifier Train Score is :  0.9864218101889601\n",
      "RandomForestClassifier Test Score is :  0.9871158137191391\n"
     ]
    }
   ],
   "source": [
    "random_forest = RandomForestClassifier(n_estimators=2000)\n",
    "random_forest.fit(X_train, y_train)\n",
    "\n",
    "print('RandomForestClassifier Train Score is : ', random_forest.score(train_X, train_y))\n",
    "print('RandomForestClassifier Test Score is : ', random_forest.score(test_X, test_y))"
   ]
  }
 ],
 "metadata": {
  "kernelspec": {
   "display_name": "Python 3",
   "language": "python",
   "name": "python3"
  },
  "language_info": {
   "codemirror_mode": {
    "name": "ipython",
    "version": 3
   },
   "file_extension": ".py",
   "mimetype": "text/x-python",
   "name": "python",
   "nbconvert_exporter": "python",
   "pygments_lexer": "ipython3",
   "version": "3.10.12"
  },
  "papermill": {
   "default_parameters": {},
   "duration": 177.080901,
   "end_time": "2023-08-10T08:08:13.029319",
   "environment_variables": {},
   "exception": null,
   "input_path": "__notebook__.ipynb",
   "output_path": "__notebook__.ipynb",
   "parameters": {},
   "start_time": "2023-08-10T08:05:15.948418",
   "version": "2.4.0"
  }
 },
 "nbformat": 4,
 "nbformat_minor": 5
}
